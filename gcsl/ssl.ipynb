{
 "cells": [
  {
   "cell_type": "code",
   "execution_count": 1,
   "metadata": {},
   "outputs": [
    {
     "name": "stderr",
     "output_type": "stream",
     "text": [
      "c:\\Users\\Mariuma Samim\\AppData\\Local\\Programs\\Python\\Python39\\lib\\site-packages\\tqdm\\auto.py:22: TqdmWarning: IProgress not found. Please update jupyter and ipywidgets. See https://ipywidgets.readthedocs.io/en/stable/user_install.html\n",
      "  from .autonotebook import tqdm as notebook_tqdm\n"
     ]
    }
   ],
   "source": [
    "import numpy\n",
    "import torch \n",
    "import torch.nn as nn\n",
    "import torch.nn.functional as F \n",
    "import einops"
   ]
  },
  {
   "cell_type": "code",
   "execution_count": 16,
   "metadata": {},
   "outputs": [
    {
     "data": {
      "text/plain": [
       "66048"
      ]
     },
     "execution_count": 16,
     "metadata": {},
     "output_type": "execute_result"
    }
   ],
   "source": [
    "ma = nn.MultiheadAttention(128, 8)\n",
    "sum((p.numel() for p in ma.parameters()))"
   ]
  },
  {
   "cell_type": "code",
   "execution_count": 114,
   "metadata": {},
   "outputs": [],
   "source": [
    "out_dim  = 10\n",
    "def make_sum_net(): \n",
    "    return nn.Sequential(\n",
    "            nn.Linear(2,32),\n",
    "            nn.Linear(32,128),\n",
    "            nn.Linear(128,out_dim)\n",
    "           )"
   ]
  },
  {
   "cell_type": "code",
   "execution_count": 113,
   "metadata": {},
   "outputs": [],
   "source": [
    "X = torch.randint(0,10, (1_000,2),dtype=torch.float32)\n",
    "emb = torch.rand(32, out_dim) # b_size x out_dim\n",
    "C = torch.zeros(out_dim)\n",
    "y = X.sum(dim=1)\n",
    "student = make_sum_net()\n",
    "optim = torch.optim.SGD(student.parameters(), lr=1e-3)\n",
    "teacher = make_sum_net()\n",
    "# there is no backpropagation through the teacher, so no need for gradients\n",
    "for p in teacher.parameters():\n",
    "    p.requires_grad = False"
   ]
  },
  {
   "cell_type": "code",
   "execution_count": 96,
   "metadata": {},
   "outputs": [],
   "source": [
    "def polyak(teacher, student, tau=0.99, device='cpu'):\n",
    "  one = torch.ones(1, requires_grad=False).to(device)\n",
    "  for s_param, t_param in zip(student.parameters(), teacher.parameters()):\n",
    "    t_param.data.mul_(tau)\n",
    "    t_param.data.addcmul_(s_param.data, one, value=(1-tau))"
   ]
  },
  {
   "cell_type": "code",
   "execution_count": 118,
   "metadata": {},
   "outputs": [],
   "source": [
    "class DINOLoss(nn.Module):\n",
    "    def __init__(self, out_dim, teacher_temp, student_temp=0.1,\n",
    "                 center_momentum=0.9):\n",
    "        super().__init__()\n",
    "        self.teacher_temp = teacher_temp\n",
    "        self.student_temp = student_temp\n",
    "        self.center_momentum = center_momentum\n",
    "        self.register_buffer(\"center\", torch.zeros(1, out_dim))\n",
    "\n",
    "    def forward(self, student_output, teacher_output):\n",
    "        \"\"\"\n",
    "        Cross-entropy between softmax outputs of the teacher and student networks.\n",
    "        \"\"\"\n",
    "        student_out = student_output / self.student_temp\n",
    "\n",
    "        # teacher centering and sharpening\n",
    "        temp = self.teacher_temp\n",
    "        teacher_out = F.softmax((teacher_output - self.center) / temp, dim=-1)\n",
    "\n",
    "        loss = torch.sum(-teacher_out * F.log_softmax(student_out, dim=-1), dim=-1)\n",
    "        loss = loss.mean()\n",
    "        self.update_center(teacher_output)\n",
    "        return loss\n",
    "\n",
    "    @torch.no_grad()\n",
    "    def update_center(self, teacher_output):\n",
    "        \"\"\"\n",
    "        Update center used for teacher output.\n",
    "        \"\"\"\n",
    "        batch_center = torch.mean(teacher_output, dim=0)\n",
    "        # ema update\n",
    "        self.center = self.center * self.center_momentum + batch_center * (1 - self.center_momentum)"
   ]
  },
  {
   "cell_type": "code",
   "execution_count": 145,
   "metadata": {},
   "outputs": [],
   "source": [
    "m, tau_s, tau_t, l = 0.9, 0.1, 0.04, 0.99"
   ]
  },
  {
   "cell_type": "code",
   "execution_count": 146,
   "metadata": {},
   "outputs": [],
   "source": [
    "dino_loss = DINOLoss(out_dim, tau_t, student_temp=tau_t, center_momentum=m)"
   ]
  },
  {
   "cell_type": "code",
   "execution_count": 152,
   "metadata": {},
   "outputs": [
    {
     "name": "stdout",
     "output_type": "stream",
     "text": [
      "tensor(0.6631, grad_fn=<MeanBackward0>)\n",
      "tensor(0.8075, grad_fn=<MeanBackward0>)\n",
      "tensor(0.6495, grad_fn=<MeanBackward0>)\n",
      "tensor(0.7483, grad_fn=<MeanBackward0>)\n",
      "tensor(0.6441, grad_fn=<MeanBackward0>)\n",
      "tensor(0.7629, grad_fn=<MeanBackward0>)\n",
      "tensor(0.6329, grad_fn=<MeanBackward0>)\n",
      "tensor(0.7246, grad_fn=<MeanBackward0>)\n",
      "tensor(0.6261, grad_fn=<MeanBackward0>)\n",
      "tensor(0.7241, grad_fn=<MeanBackward0>)\n",
      "tensor(0.6167, grad_fn=<MeanBackward0>)\n",
      "tensor(0.6993, grad_fn=<MeanBackward0>)\n",
      "tensor(0.6092, grad_fn=<MeanBackward0>)\n",
      "tensor(0.6904, grad_fn=<MeanBackward0>)\n",
      "tensor(0.6007, grad_fn=<MeanBackward0>)\n",
      "tensor(0.6730, grad_fn=<MeanBackward0>)\n",
      "tensor(0.5930, grad_fn=<MeanBackward0>)\n",
      "tensor(0.6609, grad_fn=<MeanBackward0>)\n",
      "tensor(0.5852, grad_fn=<MeanBackward0>)\n",
      "tensor(0.6470, grad_fn=<MeanBackward0>)\n",
      "tensor(0.5776, grad_fn=<MeanBackward0>)\n",
      "tensor(0.6346, grad_fn=<MeanBackward0>)\n",
      "tensor(0.5702, grad_fn=<MeanBackward0>)\n",
      "tensor(0.6224, grad_fn=<MeanBackward0>)\n",
      "tensor(0.5630, grad_fn=<MeanBackward0>)\n",
      "tensor(0.6107, grad_fn=<MeanBackward0>)\n",
      "tensor(0.5559, grad_fn=<MeanBackward0>)\n",
      "tensor(0.5996, grad_fn=<MeanBackward0>)\n",
      "tensor(0.5491, grad_fn=<MeanBackward0>)\n",
      "tensor(0.5889, grad_fn=<MeanBackward0>)\n",
      "tensor(0.5424, grad_fn=<MeanBackward0>)\n",
      "tensor(0.5788, grad_fn=<MeanBackward0>)\n",
      "tensor(0.5360, grad_fn=<MeanBackward0>)\n",
      "tensor(0.5691, grad_fn=<MeanBackward0>)\n",
      "tensor(0.5298, grad_fn=<MeanBackward0>)\n",
      "tensor(0.5599, grad_fn=<MeanBackward0>)\n",
      "tensor(0.5238, grad_fn=<MeanBackward0>)\n",
      "tensor(0.5511, grad_fn=<MeanBackward0>)\n",
      "tensor(0.5180, grad_fn=<MeanBackward0>)\n",
      "tensor(0.5428, grad_fn=<MeanBackward0>)\n",
      "tensor(0.5124, grad_fn=<MeanBackward0>)\n",
      "tensor(0.5349, grad_fn=<MeanBackward0>)\n",
      "tensor(0.5070, grad_fn=<MeanBackward0>)\n",
      "tensor(0.5273, grad_fn=<MeanBackward0>)\n",
      "tensor(0.5018, grad_fn=<MeanBackward0>)\n",
      "tensor(0.5202, grad_fn=<MeanBackward0>)\n",
      "tensor(0.4968, grad_fn=<MeanBackward0>)\n",
      "tensor(0.5134, grad_fn=<MeanBackward0>)\n",
      "tensor(0.4920, grad_fn=<MeanBackward0>)\n",
      "tensor(0.5070, grad_fn=<MeanBackward0>)\n",
      "tensor(0.4874, grad_fn=<MeanBackward0>)\n",
      "tensor(0.5008, grad_fn=<MeanBackward0>)\n",
      "tensor(0.4829, grad_fn=<MeanBackward0>)\n",
      "tensor(0.4950, grad_fn=<MeanBackward0>)\n",
      "tensor(0.4786, grad_fn=<MeanBackward0>)\n",
      "tensor(0.4895, grad_fn=<MeanBackward0>)\n",
      "tensor(0.4745, grad_fn=<MeanBackward0>)\n",
      "tensor(0.4842, grad_fn=<MeanBackward0>)\n",
      "tensor(0.4705, grad_fn=<MeanBackward0>)\n",
      "tensor(0.4792, grad_fn=<MeanBackward0>)\n",
      "tensor(0.4666, grad_fn=<MeanBackward0>)\n",
      "tensor(0.4744, grad_fn=<MeanBackward0>)\n",
      "tensor(0.4629, grad_fn=<MeanBackward0>)\n",
      "tensor(0.4698, grad_fn=<MeanBackward0>)\n",
      "tensor(0.4593, grad_fn=<MeanBackward0>)\n",
      "tensor(0.4654, grad_fn=<MeanBackward0>)\n",
      "tensor(0.4559, grad_fn=<MeanBackward0>)\n",
      "tensor(0.4613, grad_fn=<MeanBackward0>)\n",
      "tensor(0.4525, grad_fn=<MeanBackward0>)\n",
      "tensor(0.4573, grad_fn=<MeanBackward0>)\n",
      "tensor(0.4493, grad_fn=<MeanBackward0>)\n",
      "tensor(0.4535, grad_fn=<MeanBackward0>)\n",
      "tensor(0.4462, grad_fn=<MeanBackward0>)\n",
      "tensor(0.4498, grad_fn=<MeanBackward0>)\n",
      "tensor(0.4432, grad_fn=<MeanBackward0>)\n",
      "tensor(0.4464, grad_fn=<MeanBackward0>)\n",
      "tensor(0.4403, grad_fn=<MeanBackward0>)\n",
      "tensor(0.4431, grad_fn=<MeanBackward0>)\n",
      "tensor(0.4376, grad_fn=<MeanBackward0>)\n",
      "tensor(0.4399, grad_fn=<MeanBackward0>)\n",
      "tensor(0.4349, grad_fn=<MeanBackward0>)\n",
      "tensor(0.4369, grad_fn=<MeanBackward0>)\n",
      "tensor(0.4323, grad_fn=<MeanBackward0>)\n",
      "tensor(0.4339, grad_fn=<MeanBackward0>)\n",
      "tensor(0.4298, grad_fn=<MeanBackward0>)\n",
      "tensor(0.4312, grad_fn=<MeanBackward0>)\n",
      "tensor(0.4274, grad_fn=<MeanBackward0>)\n",
      "tensor(0.4285, grad_fn=<MeanBackward0>)\n",
      "tensor(0.4251, grad_fn=<MeanBackward0>)\n",
      "tensor(0.4260, grad_fn=<MeanBackward0>)\n",
      "tensor(0.4228, grad_fn=<MeanBackward0>)\n",
      "tensor(0.4235, grad_fn=<MeanBackward0>)\n",
      "tensor(0.4207, grad_fn=<MeanBackward0>)\n",
      "tensor(0.4212, grad_fn=<MeanBackward0>)\n",
      "tensor(0.4186, grad_fn=<MeanBackward0>)\n",
      "tensor(0.4189, grad_fn=<MeanBackward0>)\n",
      "tensor(0.4166, grad_fn=<MeanBackward0>)\n",
      "tensor(0.4168, grad_fn=<MeanBackward0>)\n",
      "tensor(0.4146, grad_fn=<MeanBackward0>)\n",
      "tensor(0.4147, grad_fn=<MeanBackward0>)\n"
     ]
    }
   ],
   "source": [
    "for i in range(100):\n",
    "    s = student(X)\n",
    "    t = teacher(X)\n",
    "    # student update\n",
    "    optim.zero_grad()\n",
    "    loss = dino_loss(s, t) # also updates C\n",
    "    loss.backward()\n",
    "    optim.step()\n",
    "    # teacher update\n",
    "    polyak(teacher, student, tau=l, device='cpu')\n",
    "    print(loss)"
   ]
  },
  {
   "cell_type": "code",
   "execution_count": 25,
   "metadata": {},
   "outputs": [],
   "source": [
    "# VICREG\n",
    "# Variance\n",
    "def variance_loss(x, gamma=1, eps=0.0001):\n",
    "    std_x = torch.sqrt(x.var(dim=0) + eps)\n",
    "    std_loss = torch.mean(F.relu(gamma - std_x)) \n",
    "    return std_loss\n",
    "# Covariance \n",
    "def off_diagonal(x):\n",
    "    n, m = x.shape\n",
    "    assert n == m\n",
    "    return x.flatten()[:-1].view(n - 1, n + 1)[:, 1:].flatten()\n",
    "def covariance_loss(x):\n",
    "    b_size, num_features = x.shape[0], x.shape[1]\n",
    "    x = x - x.mean(dim=0)\n",
    "    cov_x = (x.T @ x) / (b_size - 1)\n",
    "    cov_loss = off_diagonal(cov_x).pow_(2).sum().div(num_features) \n",
    "    return cov_loss"
   ]
  },
  {
   "cell_type": "code",
   "execution_count": null,
   "metadata": {},
   "outputs": [],
   "source": []
  }
 ],
 "metadata": {
  "kernelspec": {
   "display_name": "Python 3",
   "language": "python",
   "name": "python3"
  },
  "language_info": {
   "codemirror_mode": {
    "name": "ipython",
    "version": 3
   },
   "file_extension": ".py",
   "mimetype": "text/x-python",
   "name": "python",
   "nbconvert_exporter": "python",
   "pygments_lexer": "ipython3",
   "version": "3.9.13"
  },
  "orig_nbformat": 4,
  "vscode": {
   "interpreter": {
    "hash": "31ea8475bab12084b093fd61ff22284c904e8bf3f1a38ae79904317b89dedb26"
   }
  }
 },
 "nbformat": 4,
 "nbformat_minor": 2
}
