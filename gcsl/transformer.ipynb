{
 "cells": [
  {
   "cell_type": "code",
   "execution_count": 20,
   "metadata": {},
   "outputs": [
    {
     "name": "stdout",
     "output_type": "stream",
     "text": [
      "The autoreload extension is already loaded. To reload it, use:\n",
      "  %reload_ext autoreload\n"
     ]
    }
   ],
   "source": [
    "import torch \n",
    "import torch.nn as nn\n",
    "import torch.nn.functional as F\n",
    "\n",
    "import transformers\n",
    "\n",
    "from gcsl.algo.dt import DecisionTransformer, GPT2Model\n",
    "from gcsl.tools import dotdict\n",
    "import numpy as np\n",
    "\n",
    "import einops\n",
    "\n",
    "%load_ext autoreload\n",
    "%autoreload 2"
   ]
  },
  {
   "cell_type": "code",
   "execution_count": 25,
   "metadata": {},
   "outputs": [],
   "source": [
    "gpt_config = transformers.GPT2Config()\n",
    "gpt_config.vocab_size=0 # doesn't matter -- we don't use the vocab\n",
    "gpt_config.n_embd=8\n",
    "gpt_config.n_layer=2\n",
    "gpt_config.n_head=1\n",
    "gpt_config.n_inner=4*gpt_config.n_embd\n",
    "gpt_config.activation_function='relu'\n",
    "gpt_config.n_positions=1024\n",
    "gpt_config.resid_pdrop=0.1\n",
    "gpt_config.attn_pdrop=0.1\n",
    "gpt_config.n_ctx = gpt_config.n_positions # number of positions in attention mask\n",
    "gpt = GPT2Model(gpt_config)"
   ]
  },
  {
   "cell_type": "code",
   "execution_count": 26,
   "metadata": {},
   "outputs": [
    {
     "data": {
      "text/plain": [
       "1760"
      ]
     },
     "execution_count": 26,
     "metadata": {},
     "output_type": "execute_result"
    }
   ],
   "source": [
    "sum((p.numel() for p in gpt.parameters()))"
   ]
  },
  {
   "cell_type": "code",
   "execution_count": 6,
   "metadata": {},
   "outputs": [],
   "source": [
    "t = 10\n",
    "X = torch.rand(32,10,64)"
   ]
  },
  {
   "cell_type": "code",
   "execution_count": 7,
   "metadata": {},
   "outputs": [],
   "source": [
    "gpt.eval()\n",
    "out = gpt(inputs_embeds=X)"
   ]
  },
  {
   "cell_type": "code",
   "execution_count": 8,
   "metadata": {},
   "outputs": [],
   "source": [
    "X_s = X \n",
    "X_g = torch.rand(32,64)"
   ]
  },
  {
   "cell_type": "code",
   "execution_count": 9,
   "metadata": {},
   "outputs": [
    {
     "data": {
      "text/plain": [
       "torch.Size([32, 10, 64])"
      ]
     },
     "execution_count": 9,
     "metadata": {},
     "output_type": "execute_result"
    }
   ],
   "source": [
    "X_g_r = einops.repeat(X_g, 'b h -> b repeat h', repeat=t)\n",
    "X_g_r.shape"
   ]
  },
  {
   "cell_type": "code",
   "execution_count": 19,
   "metadata": {},
   "outputs": [
    {
     "data": {
      "text/plain": [
       "(tensor(True), tensor(True))"
      ]
     },
     "execution_count": 19,
     "metadata": {},
     "output_type": "execute_result"
    }
   ],
   "source": [
    "X_sg, ps = einops.pack((X_s,X_g_r), 'b t *')\n",
    "(X_sg[:,:, :64] == X_s).all(),(X_sg[:,:, 64:] == X_g_r).all()"
   ]
  },
  {
   "cell_type": "code",
   "execution_count": null,
   "metadata": {},
   "outputs": [],
   "source": []
  }
 ],
 "metadata": {
  "kernelspec": {
   "display_name": "rl_drive",
   "language": "python",
   "name": "rl_drive"
  },
  "language_info": {
   "codemirror_mode": {
    "name": "ipython",
    "version": 3
   },
   "file_extension": ".py",
   "mimetype": "text/x-python",
   "name": "python",
   "nbconvert_exporter": "python",
   "pygments_lexer": "ipython3",
   "version": "3.8.10"
  },
  "orig_nbformat": 4,
  "vscode": {
   "interpreter": {
    "hash": "0a6133edb832fd59554315189453c69650d61c668bbfcfb48674444d8aa58c49"
   }
  }
 },
 "nbformat": 4,
 "nbformat_minor": 2
}
