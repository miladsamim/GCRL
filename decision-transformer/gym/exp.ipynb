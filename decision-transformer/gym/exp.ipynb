{
 "cells": [
  {
   "attachments": {},
   "cell_type": "markdown",
   "metadata": {},
   "source": [
    "- Check batch data :check:\n",
    "- appropriate pad masking with goal indexing :check:\n",
    "- develop model to forward on batch data :check:\n",
    "- design evaluator :check: just needs to make sure act taker fits interface\n",
    "- develop model to retrieve acts :check:\n",
    "- design trainer :check:\n",
    "- modify experiment to include transformer_idm\n",
    "    - more args\n",
    "    - add state_dim, act_dim \n",
    "    - test it "
   ]
  },
  {
   "cell_type": "code",
   "execution_count": 1,
   "metadata": {},
   "outputs": [
    {
     "name": "stderr",
     "output_type": "stream",
     "text": [
      "c:\\Users\\msmic\\Documents\\code\\rl\\carla\\rl_ad\\env\\lib\\site-packages\\tqdm\\auto.py:22: TqdmWarning: IProgress not found. Please update jupyter and ipywidgets. See https://ipywidgets.readthedocs.io/en/stable/user_install.html\n",
      "  from .autonotebook import tqdm as notebook_tqdm\n"
     ]
    }
   ],
   "source": [
    "import torch \n",
    "import torch.nn as nn \n",
    "import torch.nn.functional as F\n",
    "import numpy as np\n",
    "import pickle\n",
    "import random\n",
    "import matplotlib.pyplot as plt\n",
    "import einops\n",
    "from decision_transformer.models.gated_fusion import GatedFusion, create_modified_padding_mask, generate_square_subsequent_mask\n",
    "from decision_transformer.models.transformer_idm import TransformerIDM\n",
    "%load_ext autoreload\n",
    "%autoreload 2"
   ]
  },
  {
   "cell_type": "code",
   "execution_count": 186,
   "metadata": {},
   "outputs": [],
   "source": [
    "env_name = \"hopper\"\n",
    "dataset = \"medium-replay\"\n",
    "with open(f\"data/{env_name}-{dataset}-v2.pkl\", 'rb') as fp:\n",
    "    trajectories = pickle.load(fp)\n",
    "states, traj_lens, returns = [], [], []\n",
    "delayed=True\n",
    "for path in trajectories:\n",
    "    if delayed:  # delayed: all rewards moved to end of trajectory\n",
    "        path['rewards'][-1] = path['rewards'].sum()\n",
    "        path['rewards'][:-1] = 0.\n",
    "    states.append(path['observations'])\n",
    "    traj_lens.append(len(path['observations']))\n",
    "    returns.append(path['rewards'].sum())\n",
    "traj_lens, returns = np.array(traj_lens), np.array(returns)\n",
    "states = np.concatenate(states, axis=0)\n",
    "state_mean, state_std = np.mean(states, axis=0), np.std(states, axis=0) + 1e-6\n",
    "state_dim, act_dim = states[0].shape[0], trajectories[0]['actions'][0].shape[0]\n",
    "num_timesteps = sum(traj_lens)\n",
    "max_ep_len = 1000\n",
    "scale = 1000.0 # scale rewards by this factor\n",
    "K = 20 # max sequence length\n",
    "sorted_inds = np.argsort(returns)  # lowest to highest\n",
    "num_trajectories = 1\n",
    "timesteps = traj_lens[sorted_inds[-1]]\n",
    "device='cpu'\n",
    "ind = len(trajectories) - 2\n",
    "while ind >= 0 and timesteps + traj_lens[sorted_inds[ind]] <= num_timesteps:\n",
    "    timesteps += traj_lens[sorted_inds[ind]]\n",
    "    num_trajectories += 1\n",
    "    ind -= 1\n",
    "sorted_inds = sorted_inds[-num_trajectories:]\n",
    "\n",
    "# used to reweight sampling so we sample according to timesteps instead of trajectories\n",
    "p_sample = traj_lens[sorted_inds] / sum(traj_lens[sorted_inds])\n",
    "\n",
    "def discount_cumsum(x, gamma):\n",
    "    discount_cumsum = np.zeros_like(x)\n",
    "    discount_cumsum[-1] = x[-1]\n",
    "    for t in reversed(range(x.shape[0]-1)):\n",
    "        discount_cumsum[t] = x[t] + gamma * discount_cumsum[t+1]\n",
    "    return discount_cumsum\n",
    "\n",
    "def get_batch(batch_size=256, max_len=K):\n",
    "        batch_inds = np.random.choice(\n",
    "            np.arange(num_trajectories),\n",
    "            size=batch_size,\n",
    "            replace=True,\n",
    "            p=p_sample,  # reweights so we sample according to timesteps\n",
    "        )\n",
    "\n",
    "        s, a, r, d, rtg, timesteps, mask = [], [], [], [], [], [], []\n",
    "        for i in range(batch_size):\n",
    "            traj = trajectories[int(sorted_inds[batch_inds[i]])]\n",
    "            si = random.randint(0, traj['rewards'].shape[0] - 1)\n",
    "\n",
    "            # get sequences from dataset\n",
    "            s.append(traj['observations'][si:si + max_len].reshape(1, -1, state_dim))\n",
    "            a.append(traj['actions'][si:si + max_len].reshape(1, -1, act_dim))\n",
    "            r.append(traj['rewards'][si:si + max_len].reshape(1, -1, 1))\n",
    "            if 'terminals' in traj:\n",
    "                d.append(traj['terminals'][si:si + max_len].reshape(1, -1))\n",
    "            else:\n",
    "                d.append(traj['dones'][si:si + max_len].reshape(1, -1))\n",
    "            timesteps.append(np.arange(si, si + s[-1].shape[1]).reshape(1, -1))\n",
    "            timesteps[-1][timesteps[-1] >= max_ep_len] = max_ep_len-1  # padding cutoff\n",
    "            rtg.append(discount_cumsum(traj['rewards'][si:], gamma=1.)[:s[-1].shape[1] + 1].reshape(1, -1, 1))\n",
    "            if rtg[-1].shape[1] <= s[-1].shape[1]:\n",
    "                rtg[-1] = np.concatenate([rtg[-1], np.zeros((1, 1, 1))], axis=1)\n",
    "\n",
    "            # padding and state + reward normalization\n",
    "            tlen = s[-1].shape[1]\n",
    "            s[-1] = np.concatenate([np.zeros((1, max_len - tlen, state_dim)), s[-1]], axis=1)\n",
    "            s[-1] = (s[-1] - state_mean) / state_std\n",
    "            a[-1] = np.concatenate([np.ones((1, max_len - tlen, act_dim)) * -10., a[-1]], axis=1)\n",
    "            r[-1] = np.concatenate([np.zeros((1, max_len - tlen, 1)), r[-1]], axis=1)\n",
    "            d[-1] = np.concatenate([np.ones((1, max_len - tlen)) * 2, d[-1]], axis=1)\n",
    "            rtg[-1] = np.concatenate([np.zeros((1, max_len - tlen, 1)), rtg[-1]], axis=1) / scale\n",
    "            timesteps[-1] = np.concatenate([np.zeros((1, max_len - tlen)), timesteps[-1]], axis=1)\n",
    "            mask.append(np.concatenate([np.zeros((1, max_len - tlen)), np.ones((1, tlen))], axis=1))\n",
    "\n",
    "        s = torch.from_numpy(np.concatenate(s, axis=0)).to(dtype=torch.float32, device=device)\n",
    "        a = torch.from_numpy(np.concatenate(a, axis=0)).to(dtype=torch.float32, device=device)\n",
    "        r = torch.from_numpy(np.concatenate(r, axis=0)).to(dtype=torch.float32, device=device)\n",
    "        d = torch.from_numpy(np.concatenate(d, axis=0)).to(dtype=torch.long, device=device)\n",
    "        rtg = torch.from_numpy(np.concatenate(rtg, axis=0)).to(dtype=torch.float32, device=device)\n",
    "        timesteps = torch.from_numpy(np.concatenate(timesteps, axis=0)).to(dtype=torch.long, device=device)\n",
    "        mask = torch.from_numpy(np.concatenate(mask, axis=0)).to(device=device)\n",
    "\n",
    "        return s, a, r, d, rtg, timesteps, mask"
   ]
  },
  {
   "cell_type": "code",
   "execution_count": 187,
   "metadata": {},
   "outputs": [
    {
     "data": {
      "text/plain": [
       "(196.96227339539442, 467.30203)"
      ]
     },
     "execution_count": 187,
     "metadata": {},
     "output_type": "execute_result"
    }
   ],
   "source": [
    "traj_lengths = traj_lens\n",
    "traj_lens.mean(), returns.mean()"
   ]
  },
  {
   "cell_type": "code",
   "execution_count": 188,
   "metadata": {},
   "outputs": [
    {
     "name": "stdout",
     "output_type": "stream",
     "text": [
      "Correlation: 0.9138373536202324\n",
      "Mean Trajectory Length: 196.96227339539442, Std Trajectory Length: 195.15275753287645\n",
      "Mean Returns: 467.3020324707031, Std Returns: 511.0256042480469\n",
      "Covariance: 91179.89313194717\n"
     ]
    },
    {
     "data": {
      "image/png": "[encoded data removed]",
      "text/plain": [
       "<Figure size 640x480 with 1 Axes>"
      ]
     },
     "metadata": {},
     "output_type": "display_data"
    }
   ],
   "source": [
    "# Compute correlation\n",
    "correlation = np.corrcoef(traj_lengths, returns)[0, 1]\n",
    "print(f\"Correlation: {correlation}\")\n",
    "\n",
    "# Compute mean and standard deviation\n",
    "mean_traj_lengths = np.mean(traj_lengths)\n",
    "std_traj_lengths = np.std(traj_lengths)\n",
    "mean_returns = np.mean(returns)\n",
    "std_returns = np.std(returns)\n",
    "\n",
    "print(f\"Mean Trajectory Length: {mean_traj_lengths}, Std Trajectory Length: {std_traj_lengths}\")\n",
    "print(f\"Mean Returns: {mean_returns}, Std Returns: {std_returns}\")\n",
    "\n",
    "# Compute covariance\n",
    "covariance = np.cov(traj_lengths, returns)[0, 1]\n",
    "print(f\"Covariance: {covariance}\")\n",
    "\n",
    "# Scatter plot\n",
    "plt.scatter(traj_lengths, returns)\n",
    "plt.xlabel(\"Trajectory Length\")\n",
    "plt.ylabel(\"Total Reward\")\n",
    "plt.title(\"Scatter plot of Trajectory Length vs Total Reward\")\n",
    "plt.show()"
   ]
  },
  {
   "cell_type": "code",
   "execution_count": 189,
   "metadata": {},
   "outputs": [
    {
     "name": "stdout",
     "output_type": "stream",
     "text": [
      "Mean Normalized Rewards: 2.036255345632188, Std Normalized Rewards: 0.8639036863302407\n"
     ]
    },
    {
     "data": {
      "image/png": "[encoded data removed]",
      "text/plain": [
       "<Figure size 640x480 with 1 Axes>"
      ]
     },
     "metadata": {},
     "output_type": "display_data"
    },
    {
     "data": {
      "image/png": "[encoded data removed]",
      "text/plain": [
       "<Figure size 640x480 with 1 Axes>"
      ]
     },
     "metadata": {},
     "output_type": "display_data"
    }
   ],
   "source": [
    "import numpy as np\n",
    "import matplotlib.pyplot as plt\n",
    "\n",
    "# Compute normalized rewards\n",
    "normalized_rewards = returns / traj_lengths\n",
    "\n",
    "# Compute mean and standard deviation\n",
    "mean_normalized_rewards = np.mean(normalized_rewards)\n",
    "std_normalized_rewards = np.std(normalized_rewards)\n",
    "\n",
    "print(f\"Mean Normalized Rewards: {mean_normalized_rewards}, Std Normalized Rewards: {std_normalized_rewards}\")\n",
    "\n",
    "# Histogram plot\n",
    "plt.hist(normalized_rewards, bins=30)\n",
    "plt.xlabel(\"Normalized Rewards\")\n",
    "plt.ylabel(\"Frequency\")\n",
    "plt.title(\"Histogram of Normalized Rewards\")\n",
    "plt.show()\n",
    "\n",
    "# KDE plot\n",
    "from scipy.stats import gaussian_kde\n",
    "\n",
    "density = gaussian_kde(normalized_rewards)\n",
    "x_vals = np.linspace(min(normalized_rewards), max(normalized_rewards), 1000)\n",
    "y_vals = density(x_vals)\n",
    "\n",
    "plt.plot(x_vals, y_vals)\n",
    "plt.xlabel(\"Normalized Rewards\")\n",
    "plt.ylabel(\"Density\")\n",
    "plt.title(\"KDE plot of Normalized Rewards\")\n",
    "plt.show()"
   ]
  },
  {
   "cell_type": "code",
   "execution_count": 190,
   "metadata": {},
   "outputs": [
    {
     "name": "stdout",
     "output_type": "stream",
     "text": [
      "Median Normalized Rewards: 2.1390107421875\n",
      "Q1 Normalized Rewards: 1.6847943906430844, Q3 Normalized Rewards: 2.666671531787817\n",
      "IQR Normalized Rewards: 0.9818771411447325\n"
     ]
    }
   ],
   "source": [
    "# Compute median, quartiles, and IQR\n",
    "median_normalized_rewards = np.median(normalized_rewards)\n",
    "q1_normalized_rewards = np.percentile(normalized_rewards, 25)\n",
    "q3_normalized_rewards = np.percentile(normalized_rewards, 75)\n",
    "iqr_normalized_rewards = q3_normalized_rewards - q1_normalized_rewards\n",
    "\n",
    "print(f\"Median Normalized Rewards: {median_normalized_rewards}\")\n",
    "print(f\"Q1 Normalized Rewards: {q1_normalized_rewards}, Q3 Normalized Rewards: {q3_normalized_rewards}\")\n",
    "print(f\"IQR Normalized Rewards: {iqr_normalized_rewards}\")"
   ]
  },
  {
   "cell_type": "code",
   "execution_count": 191,
   "metadata": {},
   "outputs": [
    {
     "data": {
      "text/plain": [
       "(torch.Size([256, 20, 11]),\n",
       " torch.Size([256, 20, 3]),\n",
       " torch.Size([256, 20, 1]),\n",
       " torch.Size([256, 20]),\n",
       " torch.Size([256, 21, 1]),\n",
       " torch.Size([256, 20]),\n",
       " torch.Size([256, 20]))"
      ]
     },
     "execution_count": 191,
     "metadata": {},
     "output_type": "execute_result"
    }
   ],
   "source": [
    "s, a, r, d, rtg, timesteps, mask = get_batch(batch_size=256, max_len=K)\n",
    "s.shape, a.shape, r.shape, d.shape, rtg.shape, timesteps.shape, mask.shape"
   ]
  },
  {
   "cell_type": "code",
   "execution_count": 192,
   "metadata": {},
   "outputs": [
    {
     "data": {
      "text/plain": [
       "tensor([[0.1232],\n",
       "        [0.1232],\n",
       "        [0.1232],\n",
       "        [0.1232],\n",
       "        [0.1232],\n",
       "        [0.1232],\n",
       "        [0.1232],\n",
       "        [0.1232],\n",
       "        [0.1232],\n",
       "        [0.1232],\n",
       "        [0.1232],\n",
       "        [0.1232],\n",
       "        [0.1232],\n",
       "        [0.1232],\n",
       "        [0.1232],\n",
       "        [0.1232],\n",
       "        [0.1232],\n",
       "        [0.1232],\n",
       "        [0.1232],\n",
       "        [0.1232],\n",
       "        [0.1232]])"
      ]
     },
     "execution_count": 192,
     "metadata": {},
     "output_type": "execute_result"
    }
   ],
   "source": [
    "rtg[4]"
   ]
  },
  {
   "cell_type": "code",
   "execution_count": 221,
   "metadata": {},
   "outputs": [
    {
     "data": {
      "text/plain": [
       "(torch.Size([256, 20, 11]),\n",
       " torch.Size([256, 20, 3]),\n",
       " torch.Size([256, 20, 1]),\n",
       " torch.Size([256, 20]),\n",
       " torch.Size([256, 21, 1]),\n",
       " torch.Size([256, 20]),\n",
       " torch.Size([256, 20]))"
      ]
     },
     "execution_count": 221,
     "metadata": {},
     "output_type": "execute_result"
    }
   ],
   "source": [
    "s, a, r, d, rtg, timesteps, mask = get_batch(batch_size=256, max_len=K)\n",
    "s.shape, a.shape, r.shape, d.shape, rtg.shape, timesteps.shape, mask.shape"
   ]
  },
  {
   "cell_type": "code",
   "execution_count": 194,
   "metadata": {},
   "outputs": [
    {
     "name": "stdout",
     "output_type": "stream",
     "text": [
      "0\n",
      "10\n",
      "47\n",
      "72\n",
      "87\n",
      "101\n",
      "108\n",
      "114\n",
      "125\n",
      "132\n",
      "143\n",
      "165\n",
      "183\n",
      "184\n",
      "187\n",
      "196\n",
      "236\n",
      "247\n",
      "255\n",
      "0.07421875 tensor(10.6316, dtype=torch.float64)\n"
     ]
    }
   ],
   "source": [
    "prop_edge_case = 0\n",
    "masked_entries = 0\n",
    "for i in range(256):\n",
    "    if mask[i].sum() != K:\n",
    "        print(i)\n",
    "        masked_entries += K - mask[i].sum()\n",
    "        prop_edge_case += 1\n",
    "print(prop_edge_case / 256, masked_entries / prop_edge_case)"
   ]
  },
  {
   "cell_type": "code",
   "execution_count": 195,
   "metadata": {},
   "outputs": [
    {
     "data": {
      "text/plain": [
       "tensor([183, 184, 185, 186, 187, 188, 189, 190, 191, 192, 193, 194, 195, 196,\n",
       "        197, 198, 199, 200, 201, 202])"
      ]
     },
     "execution_count": 195,
     "metadata": {},
     "output_type": "execute_result"
    }
   ],
   "source": [
    "timesteps[192]"
   ]
  },
  {
   "cell_type": "code",
   "execution_count": 196,
   "metadata": {},
   "outputs": [
    {
     "data": {
      "text/plain": [
       "727936"
      ]
     },
     "execution_count": 196,
     "metadata": {},
     "output_type": "execute_result"
    }
   ],
   "source": [
    "class dotdict(dict):\n",
    "    \"\"\"dot.notation access to dictionary attributes\"\"\"\n",
    "    __getattr__ = dict.get\n",
    "    __setattr__ = dict.__setitem__\n",
    "    __delattr__ = dict.__delitem__\n",
    "args = dotdict(\n",
    "    max_ep_len=1000,\n",
    "    embed_dim=128,\n",
    "    n_enc_layers=1,\n",
    "    n_dec_layers=2,\n",
    "    n_head=1,\n",
    "    dropout=0.1,\n",
    "    K=K,\n",
    "    activation_function='relu',\n",
    "    state_dim = state_dim,\n",
    "    act_dim = act_dim,\n",
    ")\n",
    "\n",
    "transformer = nn.Transformer(d_model=args.embed_dim, nhead=args.n_head, num_encoder_layers=args.n_enc_layers, num_decoder_layers=args.n_dec_layers, \n",
    "                                   dim_feedforward=args.embed_dim*4, dropout=args.dropout, activation=args.activation_function)\n",
    "embed_timestep = nn.Embedding(args.max_ep_len, args.embed_dim)\n",
    "embed_return = nn.Linear(1, args.embed_dim)\n",
    "embed_state = nn.Linear(state_dim, args.embed_dim)\n",
    "embed_action = nn.Embedding(1, args.embed_dim)\n",
    "goal_net = nn.Sequential(nn.Linear(args.embed_dim*2, args.embed_dim), \n",
    "                         nn.ReLU(), \n",
    "                         nn.Linear(128, 128),\n",
    "                         nn.ReLU(),\n",
    "                         nn.Linear(128, args.embed_dim))\n",
    "gated_fusion = GatedFusion(args.n_head, args.embed_dim)\n",
    "predict_action = nn.Sequential(nn.Linear(args.embed_dim, act_dim),\n",
    "                               nn.Tanh())\n",
    "sum(p.numel() for p in transformer.parameters() if p.requires_grad)\n"
   ]
  },
  {
   "cell_type": "code",
   "execution_count": 197,
   "metadata": {},
   "outputs": [
    {
     "data": {
      "text/plain": [
       "793728"
      ]
     },
     "execution_count": 197,
     "metadata": {},
     "output_type": "execute_result"
    }
   ],
   "source": [
    "decoder_layer = nn.TransformerDecoderLayer(d_model=args.embed_dim, nhead=args.n_head, dim_feedforward=args.embed_dim*4, dropout=args.dropout, activation=args.activation_function)\n",
    "transformer_decoder = nn.TransformerDecoder(decoder_layer, num_layers=args.n_dec_layers+1)\n",
    "sum(p.numel() for p in transformer_decoder.parameters() if p.requires_grad)"
   ]
  },
  {
   "cell_type": "code",
   "execution_count": 222,
   "metadata": {},
   "outputs": [
    {
     "data": {
      "text/plain": [
       "(tensor([1., 1., 1., 1., 1., 1., 1., 1., 1., 1., 1., 1., 1., 1., 1., 1., 0., 0.,\n",
       "         0., 0.], dtype=torch.float64),\n",
       " tensor([1., 1., 1., 1., 1., 1., 1., 1., 1., 1., 1., 1., 1., 1., 1., 1., 1., 1.,\n",
       "         1., 1.], dtype=torch.float64),\n",
       " tensor(15),\n",
       " tensor(1., dtype=torch.float64))"
      ]
     },
     "execution_count": 222,
     "metadata": {},
     "output_type": "execute_result"
    }
   ],
   "source": [
    "memory_key_padding_mask, pos, first_nonzero = create_modified_padding_mask(mask, K, device)\n",
    "idx = 192\n",
    "memory_key_padding_mask[idx], mask[idx], pos[idx],memory_key_padding_mask[idx][pos[idx]]"
   ]
  },
  {
   "cell_type": "code",
   "execution_count": 199,
   "metadata": {},
   "outputs": [
    {
     "data": {
      "text/plain": [
       "(torch.Size([21, 256, 128]),\n",
       " torch.Size([1, 256, 3]),\n",
       " torch.Size([256, 128]),\n",
       " torch.Size([256, 20]),\n",
       " torch.Size([256, 21]),\n",
       " torch.Size([256, 128]))"
      ]
     },
     "execution_count": 199,
     "metadata": {},
     "output_type": "execute_result"
    }
   ],
   "source": [
    "s, a, r, d, rtg, timesteps, mask = get_batch(batch_size=256, max_len=K)\n",
    "n, t, d = s.shape\n",
    "idxs = torch.arange(n, device=device)\n",
    "memory_key_padding_mask, pos = create_modified_padding_mask(mask, K, device)\n",
    "s_X = embed_state(s)\n",
    "a_X = embed_action.weight.repeat(1, n, 1)\n",
    "# rtg = rtg[:, 0] # delay -> all same\n",
    "r_X = embed_return(rtg[:, 0])\n",
    "g, ps = einops.pack((s_X[idxs, pos], r_X), 'n *')\n",
    "timesteps = einops.rearrange(timesteps, 'n t -> t n')\n",
    "time_embds = embed_timestep(timesteps)\n",
    "\n",
    "g = goal_net(g)\n",
    "s_X = gated_fusion(s_X, g)\n",
    "s_X = einops.rearrange(s_X, 'n t d -> t n d')\n",
    "s_X = s_X + time_embds\n",
    "# pack goal into s_X, modify masks accordingly\n",
    "s_X, ps = einops.pack((s_X, g), '* n d')\n",
    "mask_pad = torch.ones((n,1), device=device)\n",
    "memory_key_padding_mask, ps = einops.pack((memory_key_padding_mask, mask_pad), 'n *')\n",
    "\n",
    "\n",
    "a_X = transformer(src=s_X, tgt=a_X, src_key_padding_mask=memory_key_padding_mask,\n",
    "            tgt_key_padding_mask=None, memory_key_padding_mask=memory_key_padding_mask)\n",
    "a_X = predict_action(a_X)\n",
    "\n",
    "s_X.shape, a_X.shape, r_X.shape, mask.shape, memory_key_padding_mask.shape, g.shape"
   ]
  },
  {
   "cell_type": "code",
   "execution_count": 299,
   "metadata": {},
   "outputs": [
    {
     "data": {
      "text/plain": [
       "(torch.Size([1, 256, 3]), 1024003)"
      ]
     },
     "execution_count": 299,
     "metadata": {},
     "output_type": "execute_result"
    }
   ],
   "source": [
    "transformer_idm = TransformerIDM(11, 3, 1000,args)\n",
    "transformer_idm.to(device)\n",
    "s, a, r, d, rtg, timesteps, mask = get_batch(batch_size=256, max_len=K)\n",
    "src_n_memory_key_padding_mask, pos, first_nonzero = create_modified_padding_mask(mask, K, device)\n",
    "a_X = transformer_idm(s, a, r, rtg[:,:-1], timesteps, src_n_memory_key_padding_mask, pos=pos)\n",
    "a_X.shape, sum(p.numel() for p in transformer_idm.parameters() if p.requires_grad)"
   ]
  },
  {
   "cell_type": "code",
   "execution_count": 201,
   "metadata": {},
   "outputs": [
    {
     "data": {
      "text/plain": [
       "(727936, 65920, 99328, 387, 128000, 1021571)"
      ]
     },
     "execution_count": 201,
     "metadata": {},
     "output_type": "execute_result"
    }
   ],
   "source": [
    "transformer_ps = sum(p.numel() for p in transformer_idm.transformer.parameters() if p.requires_grad)\n",
    "goal_net_ps = sum(p.numel() for p in transformer_idm.goal_net.parameters() if p.requires_grad)\n",
    "gated_fusion_ps = sum(p.numel() for p in transformer_idm.gated_fusion.parameters() if p.requires_grad)\n",
    "predict_action_ps = sum(p.numel() for p in transformer_idm.predict_action.parameters() if p.requires_grad)\n",
    "time_embds_ps = sum(p.numel() for p in transformer_idm.embed_timestep.parameters() if p.requires_grad)\n",
    "transformer_ps, goal_net_ps, gated_fusion_ps, predict_action_ps, time_embds_ps, transformer_ps+goal_net_ps+gated_fusion_ps+predict_action_ps+time_embds_ps"
   ]
  },
  {
   "cell_type": "code",
   "execution_count": 33,
   "metadata": {},
   "outputs": [
    {
     "name": "stdout",
     "output_type": "stream",
     "text": [
      "19\n"
     ]
    },
    {
     "data": {
      "text/plain": [
       "tensor([-0.3341, -0.1149,  0.0554], grad_fn=<SelectBackward0>)"
      ]
     },
     "execution_count": 33,
     "metadata": {},
     "output_type": "execute_result"
    }
   ],
   "source": [
    "# evaluation data placeholders\n",
    "t = 30\n",
    "s_eval = torch.rand(1, t, state_dim, device=device)\n",
    "a_eval = torch.rand(1, t, act_dim, device=device)\n",
    "r_eval = torch.rand(1, t, 1, device=device)\n",
    "rtg_eval = torch.rand(1, t, 1, device=device)\n",
    "timesteps_eval = torch.arange(t, device=device).reshape(1, t)\n",
    "\n",
    "act = transformer_idm.get_action(s_eval, a_eval, r_eval, rtg_eval, timesteps_eval)\n",
    "act"
   ]
  },
  {
   "cell_type": "code",
   "execution_count": 34,
   "metadata": {},
   "outputs": [],
   "source": [
    "# SequenceTrainerIDM \n"
   ]
  },
  {
   "cell_type": "code",
   "execution_count": 36,
   "metadata": {},
   "outputs": [
    {
     "data": {
      "text/plain": [
       "torch.Size([256, 3])"
      ]
     },
     "execution_count": 36,
     "metadata": {},
     "output_type": "execute_result"
    }
   ],
   "source": [
    "a[idxs,pos].shape"
   ]
  },
  {
   "cell_type": "code",
   "execution_count": 204,
   "metadata": {},
   "outputs": [
    {
     "data": {
      "text/plain": [
       "(tensor([[1., 1., 1.,  ..., 1., 1., 1.],\n",
       "         [1., 1., 1.,  ..., 1., 1., 1.],\n",
       "         [1., 1., 1.,  ..., 1., 1., 1.],\n",
       "         ...,\n",
       "         [1., 1., 1.,  ..., 1., 1., 1.],\n",
       "         [1., 1., 1.,  ..., 1., 1., 1.],\n",
       "         [1., 1., 1.,  ..., 1., 1., 1.]], dtype=torch.float64),\n",
       " tensor([[1., 1., 1.,  ..., 1., 1., 0.],\n",
       "         [1., 1., 1.,  ..., 0., 0., 0.],\n",
       "         [1., 1., 1.,  ..., 1., 0., 0.],\n",
       "         ...,\n",
       "         [1., 1., 1.,  ..., 1., 1., 0.],\n",
       "         [1., 0., 0.,  ..., 0., 0., 0.],\n",
       "         [1., 1., 1.,  ..., 0., 0., 0.]], dtype=torch.float64))"
      ]
     },
     "execution_count": 204,
     "metadata": {},
     "output_type": "execute_result"
    }
   ],
   "source": [
    "mask, src_n_memory_key_padding_mask"
   ]
  },
  {
   "cell_type": "code",
   "execution_count": 263,
   "metadata": {},
   "outputs": [],
   "source": [
    "mask = generate_square_subsequent_mask(K, device)\n",
    "mask = einops.repeat(mask, 'n t -> b n t', b=256).clone()\n",
    "idxs = torch.arange(K, device=device)\n",
    "for i in range(256):\n",
    "    mask[i, :, :first_nonzero[i]] = float('-inf')\n",
    "    mask[i, :, pos[i]+1:] = float('-inf')\n",
    "    mask[i, idxs, idxs] = 0 # set diagonal to 0 to avoid nan collapse"
   ]
  },
  {
   "cell_type": "code",
   "execution_count": 264,
   "metadata": {},
   "outputs": [
    {
     "data": {
      "text/plain": [
       "(tensor([18,  8,  7, 18,  2, 13, 13,  6, 19, 16, 17, 15,  2, 16, 15,  1, 14, 12,\n",
       "          7, 11,  6, 18,  9,  4,  5, 10, 19,  0, 13,  2,  4,  1,  2, 13,  2,  1,\n",
       "         18,  6, 16, 11, 18, 18,  4,  0, 13, 10,  9, 12,  5,  7, 14,  2,  6,  8,\n",
       "          3, 11, 18,  5, 16,  5,  7, 12, 18, 11,  8,  0, 11,  2,  3,  2,  6, 19,\n",
       "         17,  2,  4,  6, 16,  3, 13,  4,  2,  2, 13,  6, 11,  4, 15, 13,  9,  8,\n",
       "         11,  3, 14,  2, 18,  6,  7, 15,  8, 19,  9,  6,  2, 16,  6, 16, 14,  2,\n",
       "         12,  4,  5,  2, 15, 12,  9, 16,  0, 18, 11,  7,  0, 17, 17,  2, 16,  0,\n",
       "          1,  3, 13, 15, 19,  7,  1,  6, 15, 17,  2,  3,  3,  8, 14, 13, 15, 14,\n",
       "         12,  9, 18, 16, 17,  4, 16,  6,  1,  9, 11,  5,  2, 19,  8, 14,  1, 19,\n",
       "          1, 17, 14, 15, 17, 16,  0,  9, 15,  7, 17,  4, 10,  6, 10,  7, 15, 15,\n",
       "          6, 13, 18, 13,  9,  6, 19, 12, 15,  9,  3,  9, 15,  8, 18, 16,  4,  0,\n",
       "         18,  0,  9, 13, 15,  3, 15,  1, 18, 16, 11, 19,  1,  7,  9,  8, 16, 19,\n",
       "         10, 19,  0, 13, 11,  1,  7, 12,  4, 15,  7, 14,  0,  2, 16,  9,  2,  2,\n",
       "         10, 18,  6, 19, 12,  5, 10,  0, 18,  4,  2, 19, 18,  9,  0,  2, 14,  1,\n",
       "          2,  5, 11, 15]),\n",
       " tensor([17,  0,  0,  0,  0, 12,  0,  0,  9,  0,  0,  0,  0,  0,  0,  0,  0,  9,\n",
       "          0,  0,  0,  0,  0,  0,  5,  9,  0,  0,  0,  0,  0,  0,  0,  0,  0,  0,\n",
       "          0,  0,  0, 10, 16,  0,  0,  0,  0,  0,  0,  0,  0,  0,  0,  0,  0,  0,\n",
       "          0,  0,  0,  0,  0,  0,  0,  0,  0,  0,  0,  0,  2,  0,  0,  0,  0,  0,\n",
       "          0,  0,  0,  0,  0,  0,  0,  0,  0,  0,  0,  0,  0,  0,  0,  0,  0,  0,\n",
       "          0,  0,  0,  0,  0,  0,  0, 11,  0,  0,  0,  0,  0,  0,  2,  0,  0,  0,\n",
       "          0,  0,  0,  0,  0, 10,  0,  0,  0, 15,  0,  0,  0, 16,  0,  0,  0,  0,\n",
       "          0,  0,  0,  0,  7,  0,  0,  0,  0,  0,  0,  0,  0,  0,  0, 10,  0,  0,\n",
       "          0,  0,  0,  0,  0,  0,  0,  0,  0,  0,  0,  0,  0,  0,  0,  0,  0,  0,\n",
       "          0,  0,  0, 11,  4,  0,  0,  0,  0,  0,  0,  0,  0,  0,  0,  2,  0,  0,\n",
       "          0,  0,  0,  0,  0,  0,  0,  0,  0,  0,  0,  0,  0,  0, 18,  0,  0,  0,\n",
       "          0,  0,  0,  0,  0,  0,  0,  0,  0,  0,  0,  0,  0,  0,  0,  0,  0,  0,\n",
       "          0,  0,  0,  0,  0,  0,  0,  0,  0,  0,  0,  0,  0,  0,  1,  0,  0,  0,\n",
       "          0, 12,  0,  1,  0,  0,  0,  0,  0,  0,  0,  0,  0,  0,  0,  0,  0,  0,\n",
       "          0,  0,  0,  0]))"
      ]
     },
     "execution_count": 264,
     "metadata": {},
     "output_type": "execute_result"
    }
   ],
   "source": [
    "pos, first_nonzero"
   ]
  },
  {
   "cell_type": "code",
   "execution_count": 265,
   "metadata": {},
   "outputs": [
    {
     "data": {
      "text/plain": [
       "tensor([[0., -inf, -inf, -inf, -inf, -inf, -inf, -inf, -inf, -inf, -inf, -inf, -inf, -inf, -inf, -inf, -inf, -inf, -inf, -inf],\n",
       "        [-inf, 0., -inf, -inf, -inf, -inf, -inf, -inf, -inf, -inf, -inf, -inf, -inf, -inf, -inf, -inf, -inf, -inf, -inf, -inf],\n",
       "        [-inf, -inf, 0., -inf, -inf, -inf, -inf, -inf, -inf, -inf, -inf, -inf, -inf, -inf, -inf, -inf, -inf, -inf, -inf, -inf],\n",
       "        [-inf, -inf, -inf, 0., -inf, -inf, -inf, -inf, -inf, -inf, -inf, -inf, -inf, -inf, -inf, -inf, -inf, -inf, -inf, -inf],\n",
       "        [-inf, -inf, -inf, -inf, 0., -inf, -inf, -inf, -inf, -inf, -inf, -inf, -inf, -inf, -inf, -inf, -inf, -inf, -inf, -inf],\n",
       "        [-inf, -inf, -inf, -inf, -inf, 0., -inf, -inf, -inf, -inf, -inf, -inf, -inf, -inf, -inf, -inf, -inf, -inf, -inf, -inf],\n",
       "        [-inf, -inf, -inf, -inf, -inf, -inf, 0., -inf, -inf, -inf, -inf, -inf, -inf, -inf, -inf, -inf, -inf, -inf, -inf, -inf],\n",
       "        [-inf, -inf, -inf, -inf, -inf, -inf, -inf, 0., -inf, -inf, -inf, -inf, -inf, -inf, -inf, -inf, -inf, -inf, -inf, -inf],\n",
       "        [-inf, -inf, -inf, -inf, -inf, -inf, -inf, -inf, 0., -inf, -inf, -inf, -inf, -inf, -inf, -inf, -inf, -inf, -inf, -inf],\n",
       "        [-inf, -inf, -inf, -inf, -inf, -inf, -inf, -inf, -inf, 0., -inf, -inf, -inf, -inf, -inf, -inf, -inf, -inf, -inf, -inf],\n",
       "        [-inf, -inf, -inf, -inf, -inf, -inf, -inf, -inf, -inf, -inf, 0., -inf, -inf, -inf, -inf, -inf, -inf, -inf, -inf, -inf],\n",
       "        [-inf, -inf, -inf, -inf, -inf, -inf, -inf, -inf, -inf, -inf, -inf, 0., -inf, -inf, -inf, -inf, -inf, -inf, -inf, -inf],\n",
       "        [-inf, -inf, -inf, -inf, -inf, -inf, -inf, -inf, -inf, -inf, -inf, -inf, 0., -inf, -inf, -inf, -inf, -inf, -inf, -inf],\n",
       "        [-inf, -inf, -inf, -inf, -inf, -inf, -inf, -inf, -inf, -inf, -inf, -inf, -inf, 0., -inf, -inf, -inf, -inf, -inf, -inf],\n",
       "        [-inf, -inf, -inf, -inf, -inf, -inf, -inf, -inf, -inf, -inf, -inf, -inf, -inf, -inf, 0., -inf, -inf, -inf, -inf, -inf],\n",
       "        [-inf, -inf, -inf, -inf, -inf, -inf, -inf, -inf, -inf, -inf, -inf, -inf, -inf, -inf, -inf, 0., -inf, -inf, -inf, -inf],\n",
       "        [-inf, -inf, -inf, -inf, -inf, -inf, -inf, -inf, -inf, -inf, -inf, -inf, -inf, -inf, -inf, -inf, 0., -inf, -inf, -inf],\n",
       "        [-inf, -inf, -inf, -inf, -inf, -inf, -inf, -inf, -inf, -inf, -inf, -inf, -inf, -inf, -inf, -inf, -inf, 0., -inf, -inf],\n",
       "        [-inf, -inf, -inf, -inf, -inf, -inf, -inf, -inf, -inf, -inf, -inf, -inf, -inf, -inf, -inf, -inf, -inf, 0., 0., -inf],\n",
       "        [-inf, -inf, -inf, -inf, -inf, -inf, -inf, -inf, -inf, -inf, -inf, -inf, -inf, -inf, -inf, -inf, -inf, 0., 0., 0.]])"
      ]
     },
     "execution_count": 265,
     "metadata": {},
     "output_type": "execute_result"
    }
   ],
   "source": [
    "mask[0]"
   ]
  },
  {
   "cell_type": "code",
   "execution_count": 266,
   "metadata": {},
   "outputs": [
    {
     "data": {
      "text/plain": [
       "torch.Size([256, 20, 20])"
      ]
     },
     "execution_count": 266,
     "metadata": {},
     "output_type": "execute_result"
    }
   ],
   "source": [
    "mask_pack, ps = einops.pack((mask, mask), 'b n *')"
   ]
  },
  {
   "cell_type": "code",
   "execution_count": 247,
   "metadata": {},
   "outputs": [],
   "source": [
    "# make tensor of shape 10,10 filled with -inf\n",
    "mask = torch.full((10,10), float('-inf'))"
   ]
  },
  {
   "cell_type": "code",
   "execution_count": 249,
   "metadata": {},
   "outputs": [
    {
     "data": {
      "text/plain": [
       "tensor([[-inf, -inf, -inf, -inf, -inf, -inf, -inf, -inf, -inf, -inf],\n",
       "        [-inf, -inf, -inf, -inf, -inf, -inf, -inf, -inf, -inf, -inf],\n",
       "        [-inf, -inf, -inf, -inf, -inf, -inf, -inf, -inf, -inf, -inf],\n",
       "        [-inf, -inf, -inf, -inf, -inf, -inf, -inf, -inf, -inf, -inf],\n",
       "        [-inf, -inf, -inf, -inf, -inf, -inf, -inf, -inf, -inf, -inf],\n",
       "        [-inf, -inf, -inf, -inf, -inf, -inf, -inf, -inf, -inf, -inf],\n",
       "        [-inf, -inf, -inf, -inf, -inf, -inf, -inf, -inf, -inf, -inf],\n",
       "        [-inf, -inf, -inf, -inf, -inf, -inf, -inf, -inf, -inf, -inf],\n",
       "        [-inf, -inf, -inf, -inf, -inf, -inf, -inf, -inf, -inf, -inf],\n",
       "        [-inf, -inf, -inf, -inf, -inf, -inf, -inf, -inf, -inf, -inf]])"
      ]
     },
     "execution_count": 249,
     "metadata": {},
     "output_type": "execute_result"
    }
   ],
   "source": [
    "mask.to(torch.bool)"
   ]
  },
  {
   "cell_type": "code",
   "execution_count": 277,
   "metadata": {},
   "outputs": [
    {
     "data": {
      "text/plain": [
       "(torch.Size([13, 32, 128]), tensor(True), tensor(True))"
      ]
     },
     "execution_count": 277,
     "metadata": {},
     "output_type": "execute_result"
    }
   ],
   "source": [
    "S = torch.rand(13,32,64)\n",
    "A = torch.rand(13,32,64)\n",
    "SA,ps = einops.pack((S,A), 't n *')\n",
    "SA.shape, (SA[:,:, :64] == S).all(), (SA[:,:, 64:] == A).all()"
   ]
  },
  {
   "cell_type": "code",
   "execution_count": 283,
   "metadata": {},
   "outputs": [
    {
     "data": {
      "text/plain": [
       "(torch.Size([26, 32, 64]), tensor(True), tensor(True))"
      ]
     },
     "execution_count": 283,
     "metadata": {},
     "output_type": "execute_result"
    }
   ],
   "source": [
    "SA_interleaved = einops.rearrange(SA, 't n (d1 d2) -> (t d1) n d2', d1=2)\n",
    "SA_interleaved.shape, (SA_interleaved[::2] == S).all(), (SA_interleaved[1::2] == A).all()\n",
    "# (SA_interleaved[:,:,0,:] == S).all(), (SA_interleaved[:,:,1,:] == A).all()"
   ]
  },
  {
   "cell_type": "code",
   "execution_count": 294,
   "metadata": {},
   "outputs": [],
   "source": [
    "key_pad_mask = torch.randint(0,2,(7,13), device=device).to(torch.bool)\n",
    "key_pad_mask_interleaved = einops.repeat(key_pad_mask, 'n t -> (n repeat) t', repeat=2)\n",
    "key_pad_mask_interleaved = einops.rearrange(key_pad_mask_interleaved, '(n repeat) t -> n (repeat t)', repeat=2)"
   ]
  },
  {
   "cell_type": "code",
   "execution_count": 296,
   "metadata": {},
   "outputs": [
    {
     "data": {
      "text/plain": [
       "(tensor(True), tensor(True))"
      ]
     },
     "execution_count": 296,
     "metadata": {},
     "output_type": "execute_result"
    }
   ],
   "source": [
    "(key_pad_mask_interleaved[:,:13] == key_pad_mask).all(), (key_pad_mask_interleaved[:,13:] == key_pad_mask).all()"
   ]
  },
  {
   "attachments": {},
   "cell_type": "markdown",
   "metadata": {},
   "source": [
    "# Make 2d mask and ensure it gets same outputs as key_pad_mask"
   ]
  },
  {
   "cell_type": "code",
   "execution_count": 459,
   "metadata": {},
   "outputs": [
    {
     "data": {
      "text/plain": [
       "(torch.Size([64, 60]), torch.Size([64, 60, 60]))"
      ]
     },
     "execution_count": 459,
     "metadata": {},
     "output_type": "execute_result"
    }
   ],
   "source": [
    "b_sz = 64\n",
    "s, a, r, d, rtg, timesteps, mask = get_batch(batch_size=b_sz, max_len=K)\n",
    "mask_org = mask.clone()\n",
    "mask = einops.repeat(mask, 'n t -> (n repeat) t', repeat=3)\n",
    "mask = einops.rearrange(mask, '(n repeat) t -> n (t repeat)', repeat=3)\n",
    "mask_2d = torch.zeros((b_sz, K*3, K*3), device=device)\n",
    "first_nonzero = mask.argmax(dim=1)\n",
    "idxs = torch.arange(K, device=device)\n",
    "\n",
    "for i in range(b_sz):\n",
    "    mask_2d[i, :, :first_nonzero[i]] = float('-inf')\n",
    "    # mask_2d[i, idxs, idxs] = 0 # set diagonal to 0 to avoid nan collapse\n",
    "\n",
    "# flip \n",
    "mask = ~(mask.to(torch.bool))\n",
    "mask.shape, mask_2d.shape"
   ]
  },
  {
   "cell_type": "code",
   "execution_count": 473,
   "metadata": {},
   "outputs": [],
   "source": [
    "def to_2d_mask(mask, repeats, device='cpu'):\n",
    "    K = mask.shape[1]\n",
    "    mask = einops.repeat(mask, 'n t -> (n repeat) t', repeat=3)\n",
    "    mask = einops.rearrange(mask, '(n repeat) t -> n (t repeat)', repeat=3)\n",
    "    mask_2d = generate_square_subsequent_mask(K*repeats, device=device)\n",
    "    # mask_2d = torch.zeros(K*repeats, K*repeats, device=device)\n",
    "    mask_2d = einops.repeat(mask_2d, 't1 t2 -> b t1 t2', b=mask.shape[0]).clone()\n",
    "    first_nonzero = mask.argmax(dim=1)\n",
    "    idxs = torch.arange(K*repeats, device=device)\n",
    "\n",
    "    for i in range(mask.shape[0]):\n",
    "        mask_2d[i, :, :first_nonzero[i]] = float('-inf')\n",
    "        mask_2d[i, idxs, idxs] = 0 # set diagonal to 0 to avoid nan collapse\n",
    "    \n",
    "    return mask_2d"
   ]
  },
  {
   "cell_type": "code",
   "execution_count": 474,
   "metadata": {},
   "outputs": [],
   "source": [
    "encoder_layer = nn.TransformerEncoderLayer(d_model=64, nhead=1, dim_feedforward=256, dropout=0)\n",
    "transformer_encoder = nn.TransformerEncoder(encoder_layer, num_layers=6)\n",
    "src = torch.rand(K*3, b_sz, 64)"
   ]
  },
  {
   "cell_type": "code",
   "execution_count": 475,
   "metadata": {},
   "outputs": [
    {
     "data": {
      "text/plain": [
       "(tensor(True), tensor(True))"
      ]
     },
     "execution_count": 475,
     "metadata": {},
     "output_type": "execute_result"
    }
   ],
   "source": [
    "transformer_encoder.train()\n",
    "out1 = transformer_encoder(src, src_key_padding_mask=mask)\n",
    "mask_2d = to_2d_mask(mask_org, 3, device=device)\n",
    "out2 = transformer_encoder(src, mask=mask_2d)\n",
    "# out2 = transformer_encoder(src, src_key_padding_mask=mask)\n",
    "(out1 == out2).all(), torch.isclose(out1, out2).all()"
   ]
  },
  {
   "cell_type": "code",
   "execution_count": 415,
   "metadata": {},
   "outputs": [
    {
     "data": {
      "text/plain": [
       "(tensor([ 0,  9,  0,  0,  0,  0,  0,  0,  0,  0,  0,  0,  0,  0,  0,  0,  0,  0,\n",
       "          0,  3,  0,  0,  0,  0,  0,  0,  0,  0,  0,  0,  0,  0,  0,  0,  0,  0,\n",
       "          0,  0,  0,  0,  0,  0,  0,  0,  0,  0,  0,  0,  0,  0,  0,  0,  0,  0,\n",
       "          0,  0,  0,  0,  0, 24,  0,  0,  0,  0]),\n",
       " tensor(59))"
      ]
     },
     "execution_count": 415,
     "metadata": {},
     "output_type": "execute_result"
    }
   ],
   "source": [
    "first_nonzero, first_nonzero.argmax(dim=0)"
   ]
  },
  {
   "cell_type": "code",
   "execution_count": 408,
   "metadata": {},
   "outputs": [
    {
     "data": {
      "text/plain": [
       "(tensor([ True,  True,  True,  True,  True,  True,  True,  True,  True,  True,\n",
       "          True,  True,  True,  True,  True,  True,  True,  True,  True,  True,\n",
       "          True,  True,  True,  True,  True,  True,  True,  True,  True,  True,\n",
       "          True,  True,  True,  True,  True,  True,  True,  True,  True,  True,\n",
       "          True,  True, False, False, False, False, False, False, False, False,\n",
       "         False, False, False, False, False, False, False, False, False, False]),\n",
       " tensor([[-inf, -inf, -inf,  ..., 0., 0., 0.],\n",
       "         [-inf, -inf, -inf,  ..., 0., 0., 0.],\n",
       "         [-inf, -inf, -inf,  ..., 0., 0., 0.],\n",
       "         ...,\n",
       "         [-inf, -inf, -inf,  ..., 0., 0., 0.],\n",
       "         [-inf, -inf, -inf,  ..., 0., 0., 0.],\n",
       "         [-inf, -inf, -inf,  ..., 0., 0., 0.]]))"
      ]
     },
     "execution_count": 408,
     "metadata": {},
     "output_type": "execute_result"
    }
   ],
   "source": [
    "mask[21], mask_2d[21]"
   ]
  },
  {
   "cell_type": "code",
   "execution_count": 432,
   "metadata": {},
   "outputs": [],
   "source": [
    "b_sz = 64\n",
    "s, a, r, d, rtg, timesteps, mask = get_batch(batch_size=b_sz, max_len=K)\n",
    "mask = einops.repeat(mask, 'n t -> (n repeat) t', repeat=3)\n",
    "mask = einops.rearrange(mask, '(n repeat) t -> n (t repeat)', repeat=3)\n",
    "mask_2d = generate_square_subsequent_mask(K*3, device=device)\n",
    "mask_2d = einops.repeat(mask_2d, 't1 t2 -> b t1 t2', b=b_sz).clone()\n",
    "first_nonzero = mask.argmax(dim=1)\n",
    "idxs = torch.arange(K*3, device=device)\n",
    "\n",
    "for i in range(b_sz):\n",
    "    mask_2d[i, :, :first_nonzero[i]] = float('-inf')\n",
    "    mask_2d[i, idxs, idxs] = 0 # set diagonal to 0 to avoid nan collapse"
   ]
  },
  {
   "cell_type": "code",
   "execution_count": 433,
   "metadata": {},
   "outputs": [
    {
     "data": {
      "text/plain": [
       "(tensor(False), tensor(False))"
      ]
     },
     "execution_count": 433,
     "metadata": {},
     "output_type": "execute_result"
    }
   ],
   "source": [
    "out1 = transformer_encoder(src, src_key_padding_mask=mask)\n",
    "out2 = transformer_encoder(src, mask=mask_2d)\n",
    "out1.isnan().any(), out2.isnan().any()"
   ]
  },
  {
   "cell_type": "code",
   "execution_count": 484,
   "metadata": {},
   "outputs": [],
   "source": [
    "stacked_attention_mask = torch.stack(\n",
    "    (mask_org, mask_org, mask_org), dim=1\n",
    ").permute(0, 2, 1).reshape(b_sz, 3*K)\n",
    "stacked_attention_mask = ~(stacked_attention_mask.to(torch.bool))"
   ]
  },
  {
   "cell_type": "code",
   "execution_count": 485,
   "metadata": {},
   "outputs": [
    {
     "data": {
      "text/plain": [
       "(torch.Size([64, 20]),\n",
       " torch.Size([64, 60]),\n",
       " torch.Size([64, 60]),\n",
       " tensor(True))"
      ]
     },
     "execution_count": 485,
     "metadata": {},
     "output_type": "execute_result"
    }
   ],
   "source": [
    "mask_org.shape, mask.shape, stacked_attention_mask.shape, (mask == stacked_attention_mask).all()"
   ]
  },
  {
   "cell_type": "code",
   "execution_count": 483,
   "metadata": {},
   "outputs": [
    {
     "data": {
      "text/plain": [
       "tensor([[1., 1., 1.,  ..., 1., 1., 1.],\n",
       "        [1., 1., 1.,  ..., 1., 1., 1.],\n",
       "        [1., 1., 1.,  ..., 1., 1., 1.],\n",
       "        ...,\n",
       "        [1., 1., 1.,  ..., 1., 1., 1.],\n",
       "        [1., 1., 1.,  ..., 1., 1., 1.],\n",
       "        [1., 1., 1.,  ..., 1., 1., 1.]], dtype=torch.float64)"
      ]
     },
     "execution_count": 483,
     "metadata": {},
     "output_type": "execute_result"
    }
   ],
   "source": [
    "stacked_attention_mask"
   ]
  },
  {
   "cell_type": "code",
   "execution_count": null,
   "metadata": {},
   "outputs": [],
   "source": [
    "random.randint()"
   ]
  },
  {
   "cell_type": "code",
   "execution_count": 488,
   "metadata": {},
   "outputs": [],
   "source": [
    "from decision_transformer.models.gated_fusion import to_2d_mask_idm_pos"
   ]
  },
  {
   "cell_type": "code",
   "execution_count": 510,
   "metadata": {},
   "outputs": [],
   "source": [
    "mask_2d, pos = to_2d_mask_idm_pos(mask_org, 2, device=device)"
   ]
  },
  {
   "cell_type": "code",
   "execution_count": 511,
   "metadata": {},
   "outputs": [
    {
     "data": {
      "text/plain": [
       "tensor([[0., -inf, -inf,  ..., -inf, -inf, -inf],\n",
       "        [0., 0., -inf,  ..., -inf, -inf, -inf],\n",
       "        [0., 0., 0.,  ..., -inf, -inf, -inf],\n",
       "        ...,\n",
       "        [0., 0., 0.,  ..., 0., -inf, -inf],\n",
       "        [0., 0., 0.,  ..., 0., 0., -inf],\n",
       "        [0., 0., 0.,  ..., 0., 0., 0.]])"
      ]
     },
     "execution_count": 511,
     "metadata": {},
     "output_type": "execute_result"
    }
   ],
   "source": [
    "mask_2d[0]"
   ]
  },
  {
   "cell_type": "code",
   "execution_count": 519,
   "metadata": {},
   "outputs": [
    {
     "data": {
      "text/plain": [
       "(tensor([1., 1., 1., 1., 1., 1., 1., 1., 1., 1., 1., 1., 1., 1., 1., 1., 1., 1.,\n",
       "         1., 1.], dtype=torch.float64),\n",
       " tensor([[0., 0., 0., 0., 0., 0., 0., 0., 0., 0., 0., -inf, -inf, -inf, -inf, -inf, -inf, -inf, -inf, -inf, -inf, -inf, -inf, -inf,\n",
       "          -inf, -inf, -inf, -inf, -inf, -inf, -inf, -inf, -inf, -inf, -inf, -inf, -inf, -inf, -inf, -inf],\n",
       "         [0., 0., 0., 0., 0., 0., 0., 0., 0., 0., 0., 0., -inf, -inf, -inf, -inf, -inf, -inf, -inf, -inf, -inf, -inf, -inf, -inf,\n",
       "          -inf, -inf, -inf, -inf, -inf, -inf, -inf, -inf, -inf, -inf, -inf, -inf, -inf, -inf, -inf, -inf],\n",
       "         [0., 0., 0., 0., 0., 0., 0., 0., 0., 0., 0., 0., 0., -inf, -inf, -inf, -inf, -inf, -inf, -inf, -inf, -inf, -inf, -inf,\n",
       "          -inf, -inf, -inf, -inf, -inf, -inf, -inf, -inf, -inf, -inf, -inf, -inf, -inf, -inf, -inf, -inf],\n",
       "         [0., 0., 0., 0., 0., 0., 0., 0., 0., 0., 0., 0., 0., 0., -inf, -inf, -inf, -inf, -inf, -inf, -inf, -inf, -inf, -inf,\n",
       "          -inf, -inf, -inf, -inf, -inf, -inf, -inf, -inf, -inf, -inf, -inf, -inf, -inf, -inf, -inf, -inf]]))"
      ]
     },
     "execution_count": 519,
     "metadata": {},
     "output_type": "execute_result"
    }
   ],
   "source": [
    "mask_org[pos[0]], mask_2d[0, 10:14]"
   ]
  },
  {
   "cell_type": "code",
   "execution_count": 518,
   "metadata": {},
   "outputs": [
    {
     "data": {
      "text/plain": [
       "tensor(6)"
      ]
     },
     "execution_count": 518,
     "metadata": {},
     "output_type": "execute_result"
    }
   ],
   "source": [
    "pos[0]"
   ]
  },
  {
   "cell_type": "code",
   "execution_count": 4,
   "metadata": {},
   "outputs": [],
   "source": [
    "dataset_path = f'data/hopper-medium-replay-v2.pkl'\n",
    "with open(dataset_path, 'rb') as f:\n",
    "    trajectories = pickle.load(f)"
   ]
  },
  {
   "cell_type": "code",
   "execution_count": 18,
   "metadata": {},
   "outputs": [
    {
     "data": {
      "text/plain": [
       "(33,)"
      ]
     },
     "execution_count": 18,
     "metadata": {},
     "output_type": "execute_result"
    }
   ],
   "source": [
    "trajectories[1]['rewards'].shape"
   ]
  },
  {
   "cell_type": "code",
   "execution_count": 6,
   "metadata": {},
   "outputs": [
    {
     "name": "stdout",
     "output_type": "stream",
     "text": [
      "tensor(True)\n",
      "tensor(True)\n",
      "tensor(True)\n",
      "tensor(True)\n",
      "tensor(True)\n",
      "tensor(True)\n",
      "tensor(True)\n",
      "tensor(True)\n",
      "tensor(True)\n",
      "tensor(True)\n",
      "torch.Size([32, 10, 2, 64])\n"
     ]
    }
   ],
   "source": [
    "# temporal consistency \n",
    "representations = torch.rand(32, 20, 64)\n",
    "reps = einops.rearrange(representations, 'b (t t_window) d -> b t t_window d', t_window=2)\n",
    "for i in range(20//2):\n",
    "    print((representations[:,i*2:i*2+2] == reps[:,i]).all())\n",
    "print(reps.shape)"
   ]
  },
  {
   "cell_type": "code",
   "execution_count": 9,
   "metadata": {},
   "outputs": [],
   "source": [
    "reps_ = einops.rearrange(reps, 'b t t_window d -> t_window (b t) d')\n",
    "reps_.shape\n",
    "for b_idx in range(32):\n",
    "    for t_idx in range(10):\n",
    "        if not(reps[b_idx, t_idx] == reps_[:,b_idx*10+t_idx]).all():\n",
    "            print(b_idx, t_idx)"
   ]
  },
  {
   "cell_type": "code",
   "execution_count": 11,
   "metadata": {},
   "outputs": [
    {
     "data": {
      "text/plain": [
       "torch.Size([32, 64])"
      ]
     },
     "execution_count": 11,
     "metadata": {},
     "output_type": "execute_result"
    }
   ],
   "source": [
    "reps[:,-1,-1,:].shape"
   ]
  },
  {
   "cell_type": "code",
   "execution_count": 5,
   "metadata": {},
   "outputs": [],
   "source": [
    "x = torch.rand(32, 20, 64)\n",
    "# make tensor with same shape as, but fill with 3.21/1000. everywhere\n",
    "x_ = torch.full_like(x, 3.21/1000.)"
   ]
  },
  {
   "cell_type": "code",
   "execution_count": null,
   "metadata": {},
   "outputs": [],
   "source": []
  }
 ],
 "metadata": {
  "kernelspec": {
   "display_name": "rl_drive",
   "language": "python",
   "name": "rl_drive"
  },
  "language_info": {
   "codemirror_mode": {
    "name": "ipython",
    "version": 3
   },
   "file_extension": ".py",
   "mimetype": "text/x-python",
   "name": "python",
   "nbconvert_exporter": "python",
   "pygments_lexer": "ipython3",
   "version": "3.8.10"
  },
  "orig_nbformat": 4
 },
 "nbformat": 4,
 "nbformat_minor": 2
}
